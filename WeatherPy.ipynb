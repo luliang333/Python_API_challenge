{
 "cells": [
  {
   "cell_type": "markdown",
   "metadata": {},
   "source": [
    "# WeatherPy\n",
    "----\n",
    "\n",
    "#### Note\n",
    "* Instructions have been included for each segment. You do not have to follow them exactly, but they are included to help you think through the steps."
   ]
  },
  {
   "cell_type": "code",
   "execution_count": 1,
   "metadata": {
    "scrolled": true
   },
   "outputs": [],
   "source": [
    "# Dependencies and Setup\n",
    "import matplotlib.pyplot as plt\n",
    "import pandas as pd\n",
    "import numpy as np\n",
    "import requests\n",
    "import time\n",
    "from scipy.stats import linregress\n",
    "\n",
    "# Import API key\n",
    "from api_keys import weather_api_key\n",
    "\n",
    "# Incorporated citipy to determine city based on latitude and longitude\n",
    "from citipy import citipy\n",
    "\n",
    "# Output File (CSV)\n",
    "output_data_file = \"output_data/cities.csv\"\n",
    "\n",
    "# Range of latitudes and longitudes\n",
    "lat_range = (-90, 90)\n",
    "lng_range = (-180, 180)"
   ]
  },
  {
   "cell_type": "markdown",
   "metadata": {},
   "source": [
    "## Generate Cities List"
   ]
  },
  {
   "cell_type": "code",
   "execution_count": 2,
   "metadata": {},
   "outputs": [
    {
     "data": {
      "text/plain": [
       "621"
      ]
     },
     "execution_count": 2,
     "metadata": {},
     "output_type": "execute_result"
    }
   ],
   "source": [
    "# List for holding lat_lngs and cities\n",
    "lat_lngs = []\n",
    "cities = []\n",
    "\n",
    "# Create a set of random lat and lng combinations\n",
    "lats = np.random.uniform(lat_range[0], lat_range[1], size=1500)\n",
    "lngs = np.random.uniform(lng_range[0], lng_range[1], size=1500)\n",
    "lat_lngs = zip(lats, lngs)\n",
    "\n",
    "# Identify nearest city for each lat, lng combination\n",
    "for lat_lng in lat_lngs:\n",
    "    city = citipy.nearest_city(lat_lng[0], lat_lng[1]).city_name\n",
    "    \n",
    "    # If the city is unique, then add it to a our cities list\n",
    "    if city not in cities:\n",
    "        cities.append(city)\n",
    "\n",
    "# Print the city count to confirm sufficient count\n",
    "len(cities)"
   ]
  },
  {
   "cell_type": "markdown",
   "metadata": {},
   "source": [
    "### Perform API Calls\n",
    "* Perform a weather check on each city using a series of successive API calls.\n",
    "* Include a print log of each city as it'sbeing processed (with the city number and city name).\n"
   ]
  },
  {
   "cell_type": "code",
   "execution_count": 3,
   "metadata": {
    "scrolled": true
   },
   "outputs": [
    {
     "name": "stdout",
     "output_type": "stream",
     "text": [
      "data processed 0 for rikitea\n",
      "data processed 1 for carutapera\n",
      "data processed 2 for busselton\n",
      "data processed 3 for nouadhibou\n",
      "data processed 4 for banda aceh\n",
      "data processed 5 for atuona\n",
      "City does not exist, trying next coordinates\n",
      "data processed 7 for viedma\n",
      "data processed 8 for albany\n",
      "data processed 9 for cidreira\n",
      "data processed 10 for burnie\n",
      "data processed 11 for artyom\n",
      "data processed 12 for hay river\n",
      "data processed 13 for mar del plata\n",
      "data processed 14 for mataura\n",
      "data processed 15 for ushuaia\n",
      "data processed 16 for georgetown\n",
      "data processed 17 for dikson\n",
      "data processed 18 for dustlik\n",
      "data processed 19 for pandan\n",
      "data processed 20 for san juan\n",
      "data processed 21 for luderitz\n",
      "data processed 22 for bukama\n",
      "data processed 23 for san roque\n",
      "data processed 24 for jalu\n",
      "data processed 25 for hohoe\n",
      "data processed 26 for vila franca do campo\n",
      "data processed 27 for progreso\n",
      "data processed 28 for vaini\n",
      "data processed 29 for barrow\n",
      "data processed 30 for hobart\n",
      "data processed 31 for taoudenni\n",
      "data processed 32 for alekseyevsk\n",
      "data processed 33 for hithadhoo\n",
      "data processed 34 for padang\n",
      "data processed 35 for korem\n",
      "data processed 36 for iqaluit\n",
      "City does not exist, trying next coordinates\n",
      "data processed 38 for kidal\n",
      "data processed 39 for punta arenas\n",
      "data processed 40 for labuhan\n",
      "data processed 41 for moose factory\n",
      "data processed 42 for berdigestyakh\n",
      "data processed 43 for lata\n",
      "data processed 44 for fort nelson\n",
      "data processed 45 for fortuna\n",
      "data processed 46 for havre-saint-pierre\n",
      "data processed 47 for torbay\n",
      "data processed 48 for saint-philippe\n",
      "data processed 49 for san ramon\n",
      "data processed 50 for chokurdakh\n",
      "data processed 51 for mucurapo\n",
      "City does not exist, trying next coordinates\n",
      "data processed 53 for yulara\n",
      "data processed 54 for alvaraes\n",
      "data processed 55 for nikolskoye\n",
      "data processed 56 for yellowknife\n",
      "data processed 57 for faanui\n",
      "data processed 58 for bluff\n",
      "data processed 59 for la ronge\n",
      "data processed 60 for talakan\n",
      "data processed 61 for senec\n",
      "data processed 62 for kapaa\n",
      "data processed 63 for porosozero\n",
      "data processed 64 for lasa\n",
      "City does not exist, trying next coordinates\n",
      "data processed 66 for saint-pierre\n",
      "data processed 67 for castro\n",
      "data processed 68 for olafsvik\n",
      "data processed 69 for erzin\n",
      "data processed 70 for kargasok\n",
      "data processed 71 for buala\n",
      "City does not exist, trying next coordinates\n",
      "data processed 73 for xai-xai\n",
      "data processed 74 for arraial do cabo\n",
      "data processed 75 for trairi\n",
      "City does not exist, trying next coordinates\n",
      "data processed 77 for new norfolk\n",
      "data processed 78 for rumoi\n",
      "data processed 79 for ponta do sol\n",
      "data processed 80 for carnarvon\n",
      "City does not exist, trying next coordinates\n",
      "data processed 82 for taltal\n",
      "data processed 83 for port alfred\n",
      "data processed 84 for komsomolskiy\n",
      "City does not exist, trying next coordinates\n",
      "data processed 86 for salinopolis\n",
      "data processed 87 for najran\n",
      "data processed 88 for codajas\n",
      "data processed 89 for boa vista\n",
      "data processed 90 for tasiilaq\n",
      "data processed 91 for longyearbyen\n",
      "data processed 92 for tiksi\n",
      "data processed 93 for quatre cocos\n",
      "data processed 94 for roald\n",
      "data processed 95 for rupert\n",
      "data processed 96 for cape town\n",
      "data processed 97 for road town\n",
      "data processed 98 for pevek\n",
      "data processed 99 for thompson\n",
      "data processed 100 for wamba\n",
      "data processed 101 for kamenka\n",
      "data processed 102 for coquimbo\n",
      "data processed 103 for shingu\n",
      "data processed 104 for agapovka\n",
      "data processed 105 for santiago del estero\n",
      "data processed 106 for tomatlan\n",
      "data processed 107 for east london\n",
      "data processed 108 for tuktoyaktuk\n",
      "City does not exist, trying next coordinates\n",
      "data processed 110 for bull savanna\n",
      "data processed 111 for evensk\n",
      "data processed 112 for koping\n",
      "City does not exist, trying next coordinates\n",
      "data processed 114 for agua verde\n",
      "data processed 115 for san-pedro\n",
      "data processed 116 for bredasdorp\n",
      "data processed 117 for palotina\n",
      "data processed 118 for grindavik\n",
      "data processed 119 for avarua\n",
      "data processed 120 for zhangye\n",
      "City does not exist, trying next coordinates\n",
      "data processed 122 for porbandar\n",
      "data processed 123 for guhagar\n",
      "data processed 124 for tura\n",
      "data processed 125 for chuy\n",
      "data processed 126 for kodiak\n",
      "data processed 127 for port elizabeth\n",
      "data processed 128 for port antonio\n",
      "data processed 129 for inuvik\n",
      "data processed 130 for jaunpur\n",
      "data processed 131 for sao filipe\n",
      "data processed 132 for noumea\n",
      "data processed 133 for tuatapere\n",
      "data processed 134 for nuuk\n",
      "data processed 135 for zhigansk\n",
      "data processed 136 for norman wells\n",
      "data processed 137 for san carlos de bariloche\n",
      "data processed 138 for lebu\n",
      "data processed 139 for hilo\n",
      "data processed 140 for gladstone\n",
      "data processed 141 for kundgol\n",
      "data processed 142 for dengfeng\n",
      "data processed 143 for lavrentiya\n",
      "data processed 144 for jijiga\n",
      "data processed 145 for butaritari\n",
      "data processed 146 for faya\n",
      "data processed 147 for inhambane\n",
      "data processed 148 for bubaque\n",
      "data processed 149 for bedford\n",
      "data processed 150 for bagru\n",
      "City does not exist, trying next coordinates\n",
      "data processed 152 for cayenne\n",
      "data processed 153 for kahului\n",
      "data processed 154 for sur\n",
      "data processed 155 for nsanje\n",
      "data processed 156 for gigmoto\n",
      "data processed 157 for ponta delgada\n",
      "data processed 158 for jamestown\n",
      "data processed 159 for bac lieu\n",
      "City does not exist, trying next coordinates\n",
      "data processed 161 for guozhen\n",
      "data processed 162 for esperance\n",
      "data processed 163 for chebarkul\n",
      "data processed 164 for fuyang\n",
      "data processed 165 for te anau\n",
      "data processed 166 for port lincoln\n",
      "data processed 167 for geraldton\n",
      "data processed 168 for lagoa\n",
      "data processed 169 for lorengau\n",
      "data processed 170 for bambous virieux\n",
      "data processed 171 for redmond\n",
      "data processed 172 for saldanha\n",
      "data processed 173 for lompoc\n",
      "data processed 174 for vanavara\n",
      "data processed 175 for talbahat\n",
      "data processed 176 for hermanus\n",
      "data processed 177 for charters towers\n",
      "data processed 178 for beloha\n",
      "data processed 179 for clyde river\n",
      "data processed 180 for ambon\n",
      "data processed 181 for bulgan\n",
      "data processed 182 for aksu\n",
      "data processed 183 for jega\n",
      "data processed 184 for talnakh\n",
      "data processed 185 for oistins\n",
      "data processed 186 for xinyu\n",
      "data processed 187 for bafq\n",
      "data processed 188 for half moon bay\n",
      "data processed 189 for batagay\n",
      "data processed 190 for dudinka\n",
      "data processed 191 for kristiansund\n",
      "data processed 192 for havoysund\n",
      "data processed 193 for les cayes\n",
      "City does not exist, trying next coordinates\n",
      "data processed 195 for itacoatiara\n",
      "data processed 196 for kavieng\n",
      "data processed 197 for pacific grove\n",
      "data processed 198 for ishigaki\n",
      "data processed 199 for goma\n",
      "data processed 200 for emerald\n",
      "data processed 201 for kichera\n",
      "data processed 202 for bethel\n",
      "data processed 203 for khatanga\n",
      "data processed 204 for west bay\n",
      "data processed 205 for muros\n",
      "data processed 206 for finschhafen\n",
      "data processed 207 for puerto ayora\n",
      "data processed 208 for mayachnyy\n",
      "data processed 209 for pascagoula\n",
      "data processed 210 for meulaboh\n",
      "City does not exist, trying next coordinates\n",
      "data processed 212 for oussouye\n",
      "data processed 213 for mayo\n",
      "data processed 214 for jutai\n",
      "data processed 215 for tessaoua\n",
      "data processed 216 for lakatoro\n",
      "data processed 217 for lyuban\n",
      "data processed 218 for mnogovershinnyy\n",
      "data processed 219 for qaanaaq\n",
      "data processed 220 for saint george\n",
      "data processed 221 for cherskiy\n",
      "City does not exist, trying next coordinates\n",
      "City does not exist, trying next coordinates\n",
      "data processed 224 for victoria\n",
      "City does not exist, trying next coordinates\n",
      "City does not exist, trying next coordinates\n",
      "data processed 227 for sumter\n",
      "data processed 228 for zatoka\n",
      "data processed 229 for saskylakh\n",
      "data processed 230 for oga\n",
      "data processed 231 for khurda\n",
      "City does not exist, trying next coordinates\n",
      "City does not exist, trying next coordinates\n",
      "data processed 234 for vostok\n",
      "data processed 235 for tolaga bay\n",
      "data processed 236 for nichinan\n",
      "data processed 237 for upernavik\n",
      "data processed 238 for januaria\n",
      "data processed 239 for mariinskiy posad\n",
      "data processed 240 for nhulunbuy\n",
      "data processed 241 for jambi\n",
      "data processed 242 for savannah bight\n",
      "data processed 243 for kyshtovka\n",
      "data processed 244 for pouebo\n",
      "data processed 245 for deputatskiy\n",
      "data processed 246 for comodoro rivadavia\n",
      "data processed 247 for joao camara\n",
      "data processed 248 for kushmurun\n",
      "data processed 249 for uige\n",
      "data processed 250 for cabo san lucas\n"
     ]
    },
    {
     "name": "stdout",
     "output_type": "stream",
     "text": [
      "data processed 251 for narsaq\n",
      "data processed 252 for acarau\n",
      "data processed 253 for grand gaube\n",
      "City does not exist, trying next coordinates\n",
      "data processed 255 for ibra\n",
      "data processed 256 for wakkanai\n",
      "data processed 257 for natal\n",
      "data processed 258 for flinders\n",
      "data processed 259 for blairmore\n",
      "data processed 260 for waipawa\n",
      "data processed 261 for laguna\n",
      "data processed 262 for baoro\n",
      "data processed 263 for dingle\n",
      "data processed 264 for mehamn\n",
      "data processed 265 for seydi\n",
      "data processed 266 for orlik\n",
      "data processed 267 for sisimiut\n",
      "City does not exist, trying next coordinates\n",
      "data processed 269 for olinda\n",
      "data processed 270 for bathsheba\n",
      "data processed 271 for ayagoz\n",
      "data processed 272 for katsuura\n",
      "data processed 273 for besuki\n",
      "data processed 274 for la libertad\n",
      "data processed 275 for krasnoselkup\n",
      "data processed 276 for north vanlaiphai\n",
      "data processed 277 for atbasar\n",
      "City does not exist, trying next coordinates\n",
      "data processed 279 for middleton\n",
      "data processed 280 for kruisfontein\n",
      "data processed 281 for seymchan\n",
      "data processed 282 for kisangani\n",
      "data processed 283 for cheney\n",
      "data processed 284 for chara\n",
      "City does not exist, trying next coordinates\n",
      "data processed 286 for kavaratti\n",
      "data processed 287 for airai\n",
      "data processed 288 for bereda\n",
      "data processed 289 for gat\n",
      "data processed 290 for belmonte\n",
      "data processed 291 for split\n",
      "data processed 292 for mareeba\n",
      "data processed 293 for pisco\n",
      "data processed 294 for christchurch\n",
      "data processed 295 for shizunai\n",
      "data processed 296 for fairbanks\n",
      "data processed 297 for lianzhou\n",
      "data processed 298 for prince rupert\n",
      "data processed 299 for nioro\n",
      "data processed 300 for scarborough\n",
      "City does not exist, trying next coordinates\n",
      "data processed 302 for montclair\n",
      "data processed 303 for san cristobal\n",
      "data processed 304 for byron bay\n",
      "data processed 305 for ixtapa\n",
      "data processed 306 for souillac\n",
      "data processed 307 for nanortalik\n",
      "data processed 308 for tual\n",
      "data processed 309 for buinsk\n",
      "City does not exist, trying next coordinates\n",
      "data processed 311 for ketchikan\n",
      "data processed 312 for pangai\n",
      "City does not exist, trying next coordinates\n",
      "data processed 314 for namatanai\n",
      "data processed 315 for husavik\n",
      "data processed 316 for bhimunipatnam\n",
      "data processed 317 for bakel\n",
      "data processed 318 for conceicao do araguaia\n",
      "data processed 319 for almeirim\n",
      "data processed 320 for ammon\n",
      "data processed 321 for zaoyang\n",
      "data processed 322 for goure\n",
      "data processed 323 for puerto del rosario\n",
      "data processed 324 for honiara\n",
      "data processed 325 for quzhou\n",
      "data processed 326 for barranca\n",
      "data processed 327 for beberibe\n",
      "data processed 328 for besikduzu\n",
      "data processed 329 for kaeo\n",
      "data processed 330 for provideniya\n",
      "data processed 331 for tawau\n",
      "data processed 332 for hasaki\n",
      "data processed 333 for san quintin\n",
      "data processed 334 for mahebourg\n",
      "data processed 335 for doha\n",
      "data processed 336 for kurilsk\n",
      "data processed 337 for batemans bay\n",
      "data processed 338 for vaitape\n",
      "data processed 339 for muswellbrook\n",
      "data processed 340 for vestmanna\n",
      "City does not exist, trying next coordinates\n",
      "data processed 342 for yichang\n",
      "data processed 343 for conakry\n",
      "data processed 344 for ostrovnoy\n",
      "data processed 345 for port hardy\n",
      "data processed 346 for nantucket\n",
      "data processed 347 for monrovia\n",
      "data processed 348 for barraute\n",
      "data processed 349 for moa\n",
      "data processed 350 for matadi\n",
      "data processed 351 for severo-kurilsk\n",
      "data processed 352 for high level\n",
      "data processed 353 for koslan\n",
      "data processed 354 for impfondo\n",
      "data processed 355 for bud\n",
      "data processed 356 for wajima\n",
      "City does not exist, trying next coordinates\n",
      "data processed 358 for sao joao da barra\n",
      "data processed 359 for coihaique\n",
      "data processed 360 for nata\n",
      "data processed 361 for elat\n",
      "data processed 362 for bernalillo\n",
      "data processed 363 for rohatyn\n",
      "data processed 364 for sitka\n",
      "data processed 365 for richards bay\n",
      "data processed 366 for preobrazheniye\n",
      "data processed 367 for bontang\n",
      "data processed 368 for kingston\n",
      "data processed 369 for cascais\n",
      "data processed 370 for ordzhonikidze\n",
      "data processed 371 for khairagarh\n",
      "data processed 372 for soyo\n",
      "data processed 373 for karratha\n",
      "data processed 374 for cardston\n",
      "data processed 375 for inverell\n",
      "data processed 376 for isangel\n",
      "City does not exist, trying next coordinates\n",
      "data processed 378 for kashan\n",
      "data processed 379 for dunedin\n",
      "data processed 380 for rio gallegos\n",
      "data processed 381 for cabanas\n",
      "data processed 382 for puqi\n",
      "data processed 383 for sibolga\n",
      "data processed 384 for abeche\n",
      "data processed 385 for virginia beach\n",
      "data processed 386 for kalabo\n",
      "data processed 387 for tochio\n",
      "data processed 388 for beni\n",
      "data processed 389 for sijunjung\n",
      "data processed 390 for mathbaria\n",
      "data processed 391 for moree\n",
      "data processed 392 for bayshore gardens\n",
      "data processed 393 for ahipara\n",
      "City does not exist, trying next coordinates\n",
      "data processed 395 for pianco\n",
      "data processed 396 for campbell river\n",
      "data processed 397 for hamadan\n",
      "City does not exist, trying next coordinates\n",
      "data processed 399 for zhengjiatun\n",
      "data processed 400 for erdenet\n",
      "data processed 401 for marystown\n",
      "data processed 402 for codrington\n",
      "data processed 403 for gambo\n",
      "City does not exist, trying next coordinates\n",
      "City does not exist, trying next coordinates\n",
      "data processed 406 for mangaratiba\n",
      "data processed 407 for tautira\n",
      "data processed 408 for japura\n",
      "data processed 409 for vila velha\n",
      "data processed 410 for aden\n",
      "data processed 411 for nome\n",
      "City does not exist, trying next coordinates\n",
      "data processed 413 for tumut\n",
      "data processed 414 for baykit\n",
      "data processed 415 for yerbogachen\n",
      "data processed 416 for srednekolymsk\n",
      "data processed 417 for kongolo\n",
      "data processed 418 for bikin\n",
      "data processed 419 for sorland\n",
      "data processed 420 for san antonio\n",
      "data processed 421 for mogadishu\n",
      "data processed 422 for aripuana\n",
      "data processed 423 for kjollefjord\n",
      "data processed 424 for bangassou\n",
      "data processed 425 for lishui\n",
      "data processed 426 for harper\n",
      "data processed 427 for khem karan\n",
      "data processed 428 for kalmunai\n",
      "data processed 429 for tobol\n",
      "data processed 430 for constitucion\n",
      "data processed 431 for high rock\n",
      "data processed 432 for zhezkazgan\n",
      "data processed 433 for sioux lookout\n",
      "data processed 434 for strezhevoy\n",
      "data processed 435 for sadao\n",
      "data processed 436 for sinnamary\n",
      "data processed 437 for le pont-de-claix\n",
      "data processed 438 for nicoya\n",
      "data processed 439 for bhawanipatna\n",
      "data processed 440 for pochutla\n",
      "data processed 441 for parksepa\n",
      "data processed 442 for prado\n",
      "data processed 443 for kalmar\n",
      "data processed 444 for sompeta\n",
      "data processed 445 for hanmer springs\n",
      "data processed 446 for zhanakorgan\n",
      "data processed 447 for henties bay\n",
      "data processed 448 for hami\n",
      "data processed 449 for hangu\n",
      "data processed 450 for kumano\n",
      "data processed 451 for vagur\n",
      "data processed 452 for makakilo city\n",
      "data processed 453 for bonavista\n",
      "data processed 454 for alofi\n",
      "data processed 455 for bengkulu\n",
      "data processed 456 for salalah\n",
      "data processed 457 for ancud\n",
      "data processed 458 for samarai\n",
      "data processed 459 for nombre de dios\n",
      "data processed 460 for mount gambier\n",
      "data processed 461 for ribeira grande\n",
      "data processed 462 for tromso\n",
      "data processed 463 for muli\n",
      "data processed 464 for ulagan\n",
      "data processed 465 for mecca\n",
      "data processed 466 for washington\n",
      "data processed 467 for okhotsk\n",
      "data processed 468 for karasjok\n",
      "data processed 469 for praia da vitoria\n",
      "data processed 470 for mildura\n",
      "data processed 471 for belaya gora\n",
      "data processed 472 for karaton\n",
      "data processed 473 for diego de almagro\n",
      "data processed 474 for limbang\n",
      "data processed 475 for sandwick\n",
      "data processed 476 for honolulu\n",
      "data processed 477 for kaitangata\n",
      "data processed 478 for westport\n",
      "data processed 479 for iznoski\n",
      "data processed 480 for gwadar\n",
      "data processed 481 for jennings\n",
      "data processed 482 for touros\n",
      "data processed 483 for bow island\n",
      "data processed 484 for pueblo nuevo\n",
      "data processed 485 for znamenskoye\n",
      "data processed 486 for wilkie\n",
      "data processed 487 for klamath falls\n",
      "data processed 488 for serebryanyy bor\n",
      "data processed 489 for rameswaram\n",
      "data processed 490 for kilifi\n",
      "data processed 491 for flin flon\n",
      "data processed 492 for petropavlovsk-kamchatskiy\n",
      "data processed 493 for sala consilina\n",
      "data processed 494 for eureka\n",
      "data processed 495 for obala\n",
      "data processed 496 for hokitika\n",
      "data processed 497 for asau\n",
      "data processed 498 for biltine\n"
     ]
    },
    {
     "name": "stdout",
     "output_type": "stream",
     "text": [
      "data processed 499 for wanaka\n",
      "data processed 500 for alice springs\n",
      "data processed 501 for waingapu\n",
      "data processed 502 for portland\n",
      "data processed 503 for bonito\n",
      "data processed 504 for teya\n",
      "data processed 505 for ilulissat\n",
      "data processed 506 for slave lake\n",
      "City does not exist, trying next coordinates\n",
      "data processed 508 for san patricio\n",
      "data processed 509 for palmer\n",
      "City does not exist, trying next coordinates\n",
      "data processed 511 for chornobay\n",
      "data processed 512 for bagdarin\n",
      "data processed 513 for lucapa\n",
      "data processed 514 for college\n",
      "City does not exist, trying next coordinates\n",
      "data processed 516 for sovetskiy\n",
      "data processed 517 for saint pete beach\n",
      "City does not exist, trying next coordinates\n",
      "data processed 519 for krasnoborsk\n",
      "data processed 520 for mount darwin\n",
      "City does not exist, trying next coordinates\n",
      "data processed 522 for itarema\n",
      "data processed 523 for akureyri\n",
      "data processed 524 for naqadeh\n",
      "City does not exist, trying next coordinates\n",
      "data processed 526 for bossangoa\n",
      "data processed 527 for kushiro\n",
      "data processed 528 for hermosillo\n",
      "data processed 529 for kieta\n",
      "data processed 530 for kysyl-syr\n",
      "data processed 531 for bouca\n",
      "data processed 532 for kalevala\n",
      "data processed 533 for riyadh\n",
      "data processed 534 for kemin\n",
      "data processed 535 for leningradskiy\n",
      "data processed 536 for stokmarknes\n",
      "data processed 537 for zyryanka\n",
      "data processed 538 for nanton\n",
      "City does not exist, trying next coordinates\n",
      "data processed 540 for serebryansk\n",
      "data processed 541 for harer\n",
      "data processed 542 for otane\n",
      "data processed 543 for ouargaye\n",
      "data processed 544 for kimbe\n",
      "data processed 545 for ternuvate\n",
      "data processed 546 for svetlogorsk\n",
      "data processed 547 for abashiri\n",
      "data processed 548 for sweetwater\n",
      "City does not exist, trying next coordinates\n",
      "data processed 550 for kilindoni\n",
      "data processed 551 for vangaindrano\n",
      "data processed 552 for kholm-zhirkovskiy\n",
      "data processed 553 for hofn\n",
      "data processed 554 for sumedang\n",
      "data processed 555 for whitecourt\n",
      "data processed 556 for saint anthony\n",
      "City does not exist, trying next coordinates\n",
      "data processed 558 for itoman\n",
      "data processed 559 for khandyga\n",
      "data processed 560 for oktyabrskiy\n",
      "data processed 561 for desaguadero\n",
      "data processed 562 for rawson\n",
      "data processed 563 for deolali\n",
      "data processed 564 for fort saint james\n",
      "data processed 565 for acapulco\n",
      "data processed 566 for filadelfia\n",
      "data processed 567 for brookhaven\n",
      "City does not exist, trying next coordinates\n",
      "data processed 569 for pontes e lacerda\n",
      "data processed 570 for florence\n",
      "data processed 571 for tepechitlan\n",
      "data processed 572 for sabang\n",
      "data processed 573 for jardim\n",
      "data processed 574 for namibe\n",
      "data processed 575 for gap\n",
      "data processed 576 for muisne\n",
      "data processed 577 for chipata\n",
      "data processed 578 for the valley\n",
      "data processed 579 for mantua\n",
      "data processed 580 for parnamirim\n",
      "data processed 581 for necochea\n",
      "data processed 582 for mao\n",
      "data processed 583 for klaksvik\n",
      "data processed 584 for chuka\n",
      "data processed 585 for amboise\n",
      "data processed 586 for balykshi\n",
      "data processed 587 for ulladulla\n",
      "data processed 588 for porto torres\n",
      "data processed 589 for yarim\n",
      "data processed 590 for ambilobe\n",
      "data processed 591 for navlya\n",
      "data processed 592 for itacarambi\n",
      "data processed 593 for ilek\n",
      "data processed 594 for goderich\n",
      "data processed 595 for cerqueira cesar\n",
      "data processed 596 for meadow lake\n",
      "data processed 597 for mbandaka\n",
      "data processed 598 for bassila\n",
      "City does not exist, trying next coordinates\n",
      "data processed 600 for darnah\n",
      "data processed 601 for dapitan\n",
      "data processed 602 for marondera\n",
      "data processed 603 for sola\n",
      "data processed 604 for moron\n",
      "data processed 605 for qianguo\n",
      "data processed 606 for inegol\n",
      "data processed 607 for usinsk\n",
      "data processed 608 for dongsheng\n",
      "City does not exist, trying next coordinates\n",
      "data processed 610 for catuday\n",
      "data processed 611 for la roche-sur-yon\n",
      "data processed 612 for yenagoa\n",
      "City does not exist, trying next coordinates\n",
      "data processed 614 for whyalla\n",
      "data processed 615 for luoyang\n",
      "data processed 616 for uspenskoye\n",
      "data processed 617 for aloleng\n",
      "City does not exist, trying next coordinates\n",
      "data processed 619 for chaman\n",
      "data processed 620 for guerrero negro\n"
     ]
    }
   ],
   "source": [
    "#check each city's weather\n",
    "base_url = 'http://api.openweathermap.org/data/2.5/weather?'\n",
    "units = 'imperial'\n",
    "url = f\"{base_url}appid={weather_api_key}&units={units}&q=\"\n",
    "\n",
    "#set city data\n",
    "city_data=[]\n",
    "lat_data=[]\n",
    "lng_data=[]\n",
    "max_temp_data = []\n",
    "humidity_data=[]\n",
    "cloudiness_data=[]\n",
    "wind_speed_data=[]\n",
    "country_data = []\n",
    "date_data = []\n",
    "counter =0\n",
    "\n",
    "for city in cities:\n",
    "    try:\n",
    "        response = requests.get(url + city).json()\n",
    "        city_data.append(response['name'])\n",
    "        lat_data.append(response['coord']['lat'])\n",
    "        lng_data.append(response['coord']['lon'])\n",
    "        max_temp_data.append(response['main']['temp_max'])\n",
    "        humidity_data.append(response['main']['humidity'])\n",
    "        cloudiness_data.append(response['clouds']['all'])\n",
    "        wind_speed_data.append(response['wind']['speed'])\n",
    "        country_data.append(response['sys']['country'])\n",
    "        date_data.append(response['dt'])\n",
    "        print(f'data processed {counter} for {city}')\n",
    "    except: \n",
    "        print('City does not exist, trying next coordinates')\n",
    "    counter = counter +1"
   ]
  },
  {
   "cell_type": "markdown",
   "metadata": {},
   "source": [
    "### Convert Raw Data to DataFrame\n",
    "* Export the city data into a .csv.\n",
    "* Display the DataFrame"
   ]
  },
  {
   "cell_type": "code",
   "execution_count": 4,
   "metadata": {},
   "outputs": [
    {
     "data": {
      "text/html": [
       "<div>\n",
       "<style scoped>\n",
       "    .dataframe tbody tr th:only-of-type {\n",
       "        vertical-align: middle;\n",
       "    }\n",
       "\n",
       "    .dataframe tbody tr th {\n",
       "        vertical-align: top;\n",
       "    }\n",
       "\n",
       "    .dataframe thead th {\n",
       "        text-align: right;\n",
       "    }\n",
       "</style>\n",
       "<table border=\"1\" class=\"dataframe\">\n",
       "  <thead>\n",
       "    <tr style=\"text-align: right;\">\n",
       "      <th></th>\n",
       "      <th>City</th>\n",
       "      <th>Lat</th>\n",
       "      <th>Lng</th>\n",
       "      <th>Max Temp</th>\n",
       "      <th>Humidity</th>\n",
       "      <th>Cloudiness</th>\n",
       "      <th>Wind Speed</th>\n",
       "      <th>Country</th>\n",
       "      <th>Date</th>\n",
       "    </tr>\n",
       "  </thead>\n",
       "  <tbody>\n",
       "    <tr>\n",
       "      <th>0</th>\n",
       "      <td>Rikitea</td>\n",
       "      <td>-23.1203</td>\n",
       "      <td>-134.9692</td>\n",
       "      <td>74.01</td>\n",
       "      <td>71</td>\n",
       "      <td>0</td>\n",
       "      <td>14.43</td>\n",
       "      <td>PF</td>\n",
       "      <td>1632280834</td>\n",
       "    </tr>\n",
       "    <tr>\n",
       "      <th>1</th>\n",
       "      <td>Carutapera</td>\n",
       "      <td>-1.1950</td>\n",
       "      <td>-46.0200</td>\n",
       "      <td>78.10</td>\n",
       "      <td>83</td>\n",
       "      <td>24</td>\n",
       "      <td>7.65</td>\n",
       "      <td>BR</td>\n",
       "      <td>1632280834</td>\n",
       "    </tr>\n",
       "    <tr>\n",
       "      <th>2</th>\n",
       "      <td>Busselton</td>\n",
       "      <td>-33.6500</td>\n",
       "      <td>115.3333</td>\n",
       "      <td>78.04</td>\n",
       "      <td>55</td>\n",
       "      <td>0</td>\n",
       "      <td>4.47</td>\n",
       "      <td>AU</td>\n",
       "      <td>1632280834</td>\n",
       "    </tr>\n",
       "    <tr>\n",
       "      <th>3</th>\n",
       "      <td>Nouadhibou</td>\n",
       "      <td>20.9310</td>\n",
       "      <td>-17.0347</td>\n",
       "      <td>71.58</td>\n",
       "      <td>83</td>\n",
       "      <td>0</td>\n",
       "      <td>16.11</td>\n",
       "      <td>MR</td>\n",
       "      <td>1632280835</td>\n",
       "    </tr>\n",
       "    <tr>\n",
       "      <th>4</th>\n",
       "      <td>Banda Aceh</td>\n",
       "      <td>5.5577</td>\n",
       "      <td>95.3222</td>\n",
       "      <td>83.97</td>\n",
       "      <td>65</td>\n",
       "      <td>100</td>\n",
       "      <td>13.18</td>\n",
       "      <td>ID</td>\n",
       "      <td>1632280835</td>\n",
       "    </tr>\n",
       "  </tbody>\n",
       "</table>\n",
       "</div>"
      ],
      "text/plain": [
       "         City      Lat       Lng  Max Temp  Humidity  Cloudiness  Wind Speed  \\\n",
       "0     Rikitea -23.1203 -134.9692     74.01        71           0       14.43   \n",
       "1  Carutapera  -1.1950  -46.0200     78.10        83          24        7.65   \n",
       "2   Busselton -33.6500  115.3333     78.04        55           0        4.47   \n",
       "3  Nouadhibou  20.9310  -17.0347     71.58        83           0       16.11   \n",
       "4  Banda Aceh   5.5577   95.3222     83.97        65         100       13.18   \n",
       "\n",
       "  Country        Date  \n",
       "0      PF  1632280834  \n",
       "1      BR  1632280834  \n",
       "2      AU  1632280834  \n",
       "3      MR  1632280835  \n",
       "4      ID  1632280835  "
      ]
     },
     "execution_count": 4,
     "metadata": {},
     "output_type": "execute_result"
    }
   ],
   "source": [
    "#create dataframe with the retrived data\n",
    "weather_df = pd.DataFrame({'City':city_data, \n",
    "                           'Lat':lat_data, \n",
    "                           'Lng':lng_data,\n",
    "                           'Max Temp':max_temp_data, \n",
    "                           'Humidity':humidity_data,\n",
    "                           'Cloudiness':cloudiness_data,\n",
    "                           'Wind Speed':wind_speed_data, \n",
    "                           'Country':country_data,\n",
    "                           'Date':date_data})\n",
    "len(weather_df.index)\n",
    "# we had enough cities (500+)\n",
    "weather_df.head()"
   ]
  },
  {
   "cell_type": "code",
   "execution_count": 5,
   "metadata": {},
   "outputs": [],
   "source": [
    "weather_df.to_csv(\"output_data/cities.csv\", index=False)"
   ]
  },
  {
   "cell_type": "markdown",
   "metadata": {},
   "source": [
    "## Inspect the data and remove the cities where the humidity > 100%.\n",
    "----\n",
    "Skip this step if there are no cities that have humidity > 100%. "
   ]
  },
  {
   "cell_type": "code",
   "execution_count": 6,
   "metadata": {},
   "outputs": [
    {
     "data": {
      "text/html": [
       "<div>\n",
       "<style scoped>\n",
       "    .dataframe tbody tr th:only-of-type {\n",
       "        vertical-align: middle;\n",
       "    }\n",
       "\n",
       "    .dataframe tbody tr th {\n",
       "        vertical-align: top;\n",
       "    }\n",
       "\n",
       "    .dataframe thead th {\n",
       "        text-align: right;\n",
       "    }\n",
       "</style>\n",
       "<table border=\"1\" class=\"dataframe\">\n",
       "  <thead>\n",
       "    <tr style=\"text-align: right;\">\n",
       "      <th></th>\n",
       "      <th>City</th>\n",
       "      <th>Lat</th>\n",
       "      <th>Lng</th>\n",
       "      <th>Max Temp</th>\n",
       "      <th>Humidity</th>\n",
       "      <th>Cloudiness</th>\n",
       "      <th>Wind Speed</th>\n",
       "      <th>Country</th>\n",
       "      <th>Date</th>\n",
       "    </tr>\n",
       "  </thead>\n",
       "  <tbody>\n",
       "  </tbody>\n",
       "</table>\n",
       "</div>"
      ],
      "text/plain": [
       "Empty DataFrame\n",
       "Columns: [City, Lat, Lng, Max Temp, Humidity, Cloudiness, Wind Speed, Country, Date]\n",
       "Index: []"
      ]
     },
     "execution_count": 6,
     "metadata": {},
     "output_type": "execute_result"
    }
   ],
   "source": [
    "weather_df.loc[weather_df['Humidity']>100]\n",
    "# there is no city that humidity is greater than 100%. Skipped the step."
   ]
  },
  {
   "cell_type": "code",
   "execution_count": 7,
   "metadata": {},
   "outputs": [],
   "source": [
    "#  Get the indices of cities that have humidity over 100%.\n"
   ]
  },
  {
   "cell_type": "code",
   "execution_count": 8,
   "metadata": {},
   "outputs": [],
   "source": [
    "# Make a new DataFrame equal to the city data to drop all humidity outliers by index.\n",
    "# Passing \"inplace=False\" will make a copy of the city_data DataFrame, which we call \"clean_city_data\".\n"
   ]
  },
  {
   "cell_type": "markdown",
   "metadata": {},
   "source": [
    "## Plotting the Data\n",
    "* Use proper labeling of the plots using plot titles (including date of analysis) and axes labels.\n",
    "* Save the plotted figures as .pngs."
   ]
  },
  {
   "cell_type": "markdown",
   "metadata": {},
   "source": [
    "## Latitude vs. Temperature Plot"
   ]
  },
  {
   "cell_type": "code",
   "execution_count": 9,
   "metadata": {
    "scrolled": true
   },
   "outputs": [
    {
     "data": {
      "image/png": "[encoded data removed]",
      "text/plain": [
       "<Figure size 432x288 with 1 Axes>"
      ]
     },
     "metadata": {
      "needs_background": "light"
     },
     "output_type": "display_data"
    }
   ],
   "source": [
    "plt.scatter(weather_df['Lat'],weather_df['Max Temp'],marker='o')\n",
    "plt.title('City Latitude vs Max Temperature (F) (09/21/21)')\n",
    "plt.xlabel('Latitude')\n",
    "plt.ylabel('Max Temperature (F)')\n",
    "plt.grid()\n",
    "plt.savefig('images/lat_vs_temp.png')\n",
    "#observation: temperature tends to be high when location is near the equator while the temperature tends to become lower when location is further from the equator."
   ]
  },
  {
   "cell_type": "markdown",
   "metadata": {},
   "source": [
    "## Latitude vs. Humidity Plot"
   ]
  },
  {
   "cell_type": "code",
   "execution_count": 10,
   "metadata": {},
   "outputs": [
    {
     "data": {
      "image/png": "[encoded data removed]",
      "text/plain": [
       "<Figure size 432x288 with 1 Axes>"
      ]
     },
     "metadata": {
      "needs_background": "light"
     },
     "output_type": "display_data"
    }
   ],
   "source": [
    "plt.scatter(weather_df['Lat'],weather_df['Humidity'],marker='o')\n",
    "plt.title('City Latitude vs Humidity (09/21/21)')\n",
    "plt.xlabel('Latitude')\n",
    "plt.ylabel('Humidity')\n",
    "plt.grid()\n",
    "plt.savefig('images/lat_vs_humidity.png')\n",
    "#observation: There is no corrlation between latitude and humidity. However, there are more cities with humidity over 50% than cities with humidity level below 50%"
   ]
  },
  {
   "cell_type": "markdown",
   "metadata": {},
   "source": [
    "## Latitude vs. Cloudiness Plot"
   ]
  },
  {
   "cell_type": "code",
   "execution_count": 11,
   "metadata": {},
   "outputs": [
    {
     "data": {
      "image/png": "[encoded data removed]",
      "text/plain": [
       "<Figure size 432x288 with 1 Axes>"
      ]
     },
     "metadata": {
      "needs_background": "light"
     },
     "output_type": "display_data"
    }
   ],
   "source": [
    "plt.scatter(weather_df['Lat'],weather_df['Cloudiness'],marker='o')\n",
    "plt.title('City Latitude vs Cloudiness (09/21/21)')\n",
    "plt.xlabel('Latitude')\n",
    "plt.ylabel('Cloudiness')\n",
    "plt.grid()\n",
    "plt.savefig('images/lat_vs_cloudiness.png')\n",
    "#observation: There is no correlation between latitude and cloudiness"
   ]
  },
  {
   "cell_type": "markdown",
   "metadata": {},
   "source": [
    "## Latitude vs. Wind Speed Plot"
   ]
  },
  {
   "cell_type": "code",
   "execution_count": 12,
   "metadata": {},
   "outputs": [
    {
     "data": {
      "image/png": "[encoded data removed]",
      "text/plain": [
       "<Figure size 432x288 with 1 Axes>"
      ]
     },
     "metadata": {
      "needs_background": "light"
     },
     "output_type": "display_data"
    }
   ],
   "source": [
    "plt.scatter(weather_df['Lat'],weather_df['Wind Speed'],marker='o')\n",
    "plt.title('City Latitude vs Wind Speed (09/21/21)')\n",
    "plt.xlabel('Latitude')\n",
    "plt.ylabel('Wind Speed')\n",
    "plt.grid()\n",
    "plt.savefig('images/lat_vs_windspeed.png')\n",
    "#observation: There is no correlation between latitude and wind speed."
   ]
  },
  {
   "cell_type": "markdown",
   "metadata": {},
   "source": [
    "## Linear Regression"
   ]
  },
  {
   "cell_type": "code",
   "execution_count": 13,
   "metadata": {},
   "outputs": [],
   "source": [
    "# make sure all latitudes are floats\n",
    "weather_df['Lat'].dtype\n",
    "#seperate north and south areas\n",
    "north = weather_df.loc[weather_df['Lat'] >= 0, :]\n",
    "south = weather_df.loc[weather_df['Lat'] < 0, :]\n",
    "# build a linregress function so that it can be applied each time\n",
    "def linear_regression(x_axis, y_axis, x_label, y_label):\n",
    "    (slope, intercept, rvalue, _, _) = linregress(x_axis,y_axis)\n",
    "    print(f'The r-value is: {rvalue}')\n",
    "    regress_values = x_axis * slope + intercept\n",
    "    line_eq = 'y = ' + str(round(slope,2)) + 'x + ' + str(round(intercept,2))\n",
    "    plt.scatter(x_axis, y_axis)\n",
    "    plt.plot(x_axis, regress_values,'r-')\n",
    "    plt.annotate(line_eq, coord,fontsize=15,color='r')\n",
    "    plt.xlabel(x_label)\n",
    "    plt.ylabel(y_label)\n",
    "    plt.show()"
   ]
  },
  {
   "cell_type": "markdown",
   "metadata": {},
   "source": [
    "####  Northern Hemisphere - Max Temp vs. Latitude Linear Regression"
   ]
  },
  {
   "cell_type": "code",
   "execution_count": 14,
   "metadata": {},
   "outputs": [
    {
     "name": "stdout",
     "output_type": "stream",
     "text": [
      "The r-value is: -0.8330183106129749\n"
     ]
    },
    {
     "data": {
      "image/png": "[encoded data removed]",
      "text/plain": [
       "<Figure size 432x288 with 1 Axes>"
      ]
     },
     "metadata": {
      "needs_background": "light"
     },
     "output_type": "display_data"
    },
    {
     "data": {
      "text/plain": [
       "<Figure size 432x288 with 0 Axes>"
      ]
     },
     "metadata": {},
     "output_type": "display_data"
    }
   ],
   "source": [
    "x_axis = north['Lat']\n",
    "y_axis = north['Max Temp']\n",
    "x_label = 'Latitude'\n",
    "y_label = 'Max Temp'\n",
    "coord = (0,30)\n",
    "linear_regression(x_axis, y_axis, x_label,y_label)\n",
    "plt.savefig('images/lat_vs_temp_nor.png')\n",
    "#observation: In Northern Hemisphere, max temp decreases when the latitude increases"
   ]
  },
  {
   "cell_type": "markdown",
   "metadata": {},
   "source": [
    "####  Southern Hemisphere - Max Temp vs. Latitude Linear Regression"
   ]
  },
  {
   "cell_type": "code",
   "execution_count": 15,
   "metadata": {},
   "outputs": [
    {
     "name": "stdout",
     "output_type": "stream",
     "text": [
      "The r-value is: 0.7178763021973511\n"
     ]
    },
    {
     "data": {
      "image/png": "[encoded data removed]",
      "text/plain": [
       "<Figure size 432x288 with 1 Axes>"
      ]
     },
     "metadata": {
      "needs_background": "light"
     },
     "output_type": "display_data"
    },
    {
     "data": {
      "text/plain": [
       "<Figure size 432x288 with 0 Axes>"
      ]
     },
     "metadata": {},
     "output_type": "display_data"
    }
   ],
   "source": [
    "x_axis = south['Lat']\n",
    "y_axis = south['Max Temp']\n",
    "x_label = 'Latitude'\n",
    "y_label = 'Max Temp'\n",
    "coord = (-50,80)\n",
    "linear_regression(x_axis, y_axis, x_label,y_label)\n",
    "plt.savefig('images/lat_vs_temp_sou.png')\n",
    "#observation: In Southern Hemisphere, max temp increases when the latitude increases"
   ]
  },
  {
   "cell_type": "markdown",
   "metadata": {},
   "source": [
    "####  Northern Hemisphere - Humidity (%) vs. Latitude Linear Regression"
   ]
  },
  {
   "cell_type": "code",
   "execution_count": 16,
   "metadata": {},
   "outputs": [
    {
     "name": "stdout",
     "output_type": "stream",
     "text": [
      "The r-value is: -0.05569517728656974\n"
     ]
    },
    {
     "data": {
      "image/png": "[encoded data removed]",
      "text/plain": [
       "<Figure size 432x288 with 1 Axes>"
      ]
     },
     "metadata": {
      "needs_background": "light"
     },
     "output_type": "display_data"
    },
    {
     "data": {
      "text/plain": [
       "<Figure size 432x288 with 0 Axes>"
      ]
     },
     "metadata": {},
     "output_type": "display_data"
    }
   ],
   "source": [
    "x_axis = north['Lat']\n",
    "y_axis = north['Humidity']\n",
    "x_label = 'Latitude'\n",
    "y_label = 'Humidity %'\n",
    "coord = (0,25)\n",
    "linear_regression(x_axis, y_axis, x_label,y_label)\n",
    "plt.savefig('images/lat_vs_humidity_nor.png')\n",
    "#observation: In Northern Hemisphere, latitude and humidity are not correlated."
   ]
  },
  {
   "cell_type": "markdown",
   "metadata": {},
   "source": [
    "####  Southern Hemisphere - Humidity (%) vs. Latitude Linear Regression"
   ]
  },
  {
   "cell_type": "code",
   "execution_count": 17,
   "metadata": {},
   "outputs": [
    {
     "name": "stdout",
     "output_type": "stream",
     "text": [
      "The r-value is: 0.1955473072481032\n"
     ]
    },
    {
     "data": {
      "image/png": "[encoded data removed]",
      "text/plain": [
       "<Figure size 432x288 with 1 Axes>"
      ]
     },
     "metadata": {
      "needs_background": "light"
     },
     "output_type": "display_data"
    },
    {
     "data": {
      "text/plain": [
       "<Figure size 432x288 with 0 Axes>"
      ]
     },
     "metadata": {},
     "output_type": "display_data"
    }
   ],
   "source": [
    "x_axis = south['Lat']\n",
    "y_axis = south['Humidity']\n",
    "x_label = 'Latitude'\n",
    "y_label = 'Humidity%'\n",
    "coord = (-50,30)\n",
    "linear_regression(x_axis, y_axis, x_label,y_label)\n",
    "plt.savefig('images/lat_vs_temp_sou.png')\n",
    "#observation: In Southern Hemisphere, latitude and humidity are slightly correlated. hudimidity increases when latitude increases."
   ]
  },
  {
   "cell_type": "markdown",
   "metadata": {},
   "source": [
    "####  Northern Hemisphere - Cloudiness (%) vs. Latitude Linear Regression"
   ]
  },
  {
   "cell_type": "code",
   "execution_count": 18,
   "metadata": {},
   "outputs": [
    {
     "name": "stdout",
     "output_type": "stream",
     "text": [
      "The r-value is: 0.01620210243911539\n"
     ]
    },
    {
     "data": {
      "image/png": "[encoded data removed]",
      "text/plain": [
       "<Figure size 432x288 with 1 Axes>"
      ]
     },
     "metadata": {
      "needs_background": "light"
     },
     "output_type": "display_data"
    },
    {
     "data": {
      "text/plain": [
       "<Figure size 432x288 with 0 Axes>"
      ]
     },
     "metadata": {},
     "output_type": "display_data"
    }
   ],
   "source": [
    "x_axis = north['Lat']\n",
    "y_axis = north['Cloudiness']\n",
    "x_label = 'Latitude'\n",
    "y_label = 'Cloudiness %'\n",
    "coord = (0,25)\n",
    "linear_regression(x_axis, y_axis, x_label,y_label)\n",
    "plt.savefig('images/lat_vs_cloudiness_nor.png')\n",
    "#observation: In Northern Hemisphere, latitude and humidity are not correlated."
   ]
  },
  {
   "cell_type": "markdown",
   "metadata": {},
   "source": [
    "####  Southern Hemisphere - Cloudiness (%) vs. Latitude Linear Regression"
   ]
  },
  {
   "cell_type": "code",
   "execution_count": 19,
   "metadata": {},
   "outputs": [
    {
     "name": "stdout",
     "output_type": "stream",
     "text": [
      "The r-value is: 0.17861908346660235\n"
     ]
    },
    {
     "data": {
      "image/png": "[encoded data removed]",
      "text/plain": [
       "<Figure size 432x288 with 1 Axes>"
      ]
     },
     "metadata": {
      "needs_background": "light"
     },
     "output_type": "display_data"
    },
    {
     "data": {
      "text/plain": [
       "<Figure size 432x288 with 0 Axes>"
      ]
     },
     "metadata": {},
     "output_type": "display_data"
    }
   ],
   "source": [
    "x_axis = south['Lat']\n",
    "y_axis = south['Cloudiness']\n",
    "x_label = 'Latitude'\n",
    "y_label = 'Cloudiness %'\n",
    "coord = (-50,60)\n",
    "linear_regression(x_axis, y_axis, x_label,y_label)\n",
    "plt.savefig('images/lat_vs_cloudiness_sou.png')\n",
    "#observation: In Southern Hemisphere, cloudiness increases when the latitude increases."
   ]
  },
  {
   "cell_type": "markdown",
   "metadata": {},
   "source": [
    "####  Northern Hemisphere - Wind Speed (mph) vs. Latitude Linear Regression"
   ]
  },
  {
   "cell_type": "code",
   "execution_count": 20,
   "metadata": {},
   "outputs": [
    {
     "name": "stdout",
     "output_type": "stream",
     "text": [
      "The r-value is: 0.2458026090380949\n"
     ]
    },
    {
     "data": {
      "image/png": "[encoded data removed]",
      "text/plain": [
       "<Figure size 432x288 with 1 Axes>"
      ]
     },
     "metadata": {
      "needs_background": "light"
     },
     "output_type": "display_data"
    },
    {
     "data": {
      "text/plain": [
       "<Figure size 432x288 with 0 Axes>"
      ]
     },
     "metadata": {},
     "output_type": "display_data"
    }
   ],
   "source": [
    "x_axis = north['Lat']\n",
    "y_axis = north['Wind Speed']\n",
    "x_label = 'Latitude'\n",
    "y_label = 'Wind Speed (mph)'\n",
    "coord = (0,30)\n",
    "linear_regression(x_axis, y_axis, x_label,y_label)\n",
    "plt.savefig('images/lat_vs_windspeed_nor.png')\n",
    "#observation: In Northern Hemisphere, latitude and wind speed are slightly correlated. Wind speed increases slightly when the latitude increases."
   ]
  },
  {
   "cell_type": "markdown",
   "metadata": {},
   "source": [
    "####  Southern Hemisphere - Wind Speed (mph) vs. Latitude Linear Regression"
   ]
  },
  {
   "cell_type": "code",
   "execution_count": 21,
   "metadata": {},
   "outputs": [
    {
     "name": "stdout",
     "output_type": "stream",
     "text": [
      "The r-value is: -0.04307897678894865\n"
     ]
    },
    {
     "data": {
      "image/png": "[encoded data removed]",
      "text/plain": [
       "<Figure size 432x288 with 1 Axes>"
      ]
     },
     "metadata": {
      "needs_background": "light"
     },
     "output_type": "display_data"
    },
    {
     "data": {
      "text/plain": [
       "<Figure size 432x288 with 0 Axes>"
      ]
     },
     "metadata": {},
     "output_type": "display_data"
    }
   ],
   "source": [
    "x_axis = south['Lat']\n",
    "y_axis = south['Wind Speed']\n",
    "x_label = 'Latitude'\n",
    "y_label = 'Wind Speed (mph)'\n",
    "coord = (-50,15)\n",
    "linear_regression(x_axis, y_axis, x_label,y_label)\n",
    "plt.savefig('images/lat_vs_windspeed_sou.png')\n",
    "#observation: In Southern Hemisphere, latitude and wind speed are not correlated."
   ]
  }
 ],
 "metadata": {
  "anaconda-cloud": {},
  "kernel_info": {
   "name": "python3"
  },
  "kernelspec": {
   "display_name": "Python 3 (ipykernel)",
   "language": "python",
   "name": "python3"
  },
  "language_info": {
   "codemirror_mode": {
    "name": "ipython",
    "version": 3
   },
   "file_extension": ".py",
   "mimetype": "text/x-python",
   "name": "python",
   "nbconvert_exporter": "python",
   "pygments_lexer": "ipython3",
   "version": "3.9.7"
  },
  "latex_envs": {
   "LaTeX_envs_menu_present": true,
   "autoclose": false,
   "autocomplete": true,
   "bibliofile": "biblio.bib",
   "cite_by": "apalike",
   "current_citInitial": 1,
   "eqLabelWithNumbers": true,
   "eqNumInitial": 1,
   "hotkeys": {
    "equation": "Ctrl-E",
    "itemize": "Ctrl-I"
   },
   "labels_anchors": false,
   "latex_user_defs": false,
   "report_style_numbering": false,
   "user_envs_cfg": false
  },
  "nteract": {
   "version": "0.12.3"
  }
 },
 "nbformat": 4,
 "nbformat_minor": 2
}
